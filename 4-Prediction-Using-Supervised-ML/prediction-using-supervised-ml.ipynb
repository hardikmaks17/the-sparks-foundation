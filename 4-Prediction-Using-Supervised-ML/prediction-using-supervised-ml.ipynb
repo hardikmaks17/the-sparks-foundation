{
  "nbformat": 4,
  "nbformat_minor": 5,
  "metadata": {
    "kernelspec": {
      "display_name": "Python 3",
      "language": "python",
      "name": "python3"
    },
    "language_info": {
      "codemirror_mode": {
        "name": "ipython",
        "version": 3
      },
      "file_extension": ".py",
      "mimetype": "text/x-python",
      "name": "python",
      "nbconvert_exporter": "python",
      "pygments_lexer": "ipython3",
      "version": "3.8.8"
    },
    "colab": {
      "name": "TSF_TASK_1.ipynb",
      "provenance": []
    }
  },
  "cells": [
    {
      "cell_type": "markdown",
      "source": [
        "# Graduate Rotational Internship Program | The Sparks Foundation\n",
        "\n",
        "\n",
        "**AUTHOR : HARDIK MAKWANA**\n",
        "\n",
        "**Task-1 : Prediction using Supervised Machine Learning**\n",
        "\n",
        "**Description : Predict the percentage of a student based on the number of study hours**"
      ],
      "metadata": {
        "id": "ff9174d7"
      }
    },
    {
      "cell_type": "markdown",
      "source": [
        "**IMPORTING ALL THE LIBRARIES**"
      ],
      "metadata": {
        "id": "80046de1"
      }
    },
    {
      "cell_type": "code",
      "execution_count": 1,
      "source": [
        "import pandas as pd\r\n",
        "import numpy as np  \r\n",
        "import matplotlib.pyplot as plt  \r\n",
        "%matplotlib inline"
      ],
      "outputs": [],
      "metadata": {
        "id": "27e95683"
      }
    },
    {
      "cell_type": "markdown",
      "source": [
        "**IMPORTING THE DATA**"
      ],
      "metadata": {
        "id": "e2672733"
      }
    },
    {
      "cell_type": "code",
      "execution_count": 2,
      "source": [
        "df=pd.read_csv(\"student-scores.csv\")\r\n",
        "print(\"Data imported successfully \")\r\n",
        "df.head(10)"
      ],
      "outputs": [
        {
          "output_type": "stream",
          "name": "stdout",
          "text": [
            "Data imported successfully \n"
          ]
        },
        {
          "output_type": "execute_result",
          "data": {
            "text/html": [
              "<div>\n",
              "<style scoped>\n",
              "    .dataframe tbody tr th:only-of-type {\n",
              "        vertical-align: middle;\n",
              "    }\n",
              "\n",
              "    .dataframe tbody tr th {\n",
              "        vertical-align: top;\n",
              "    }\n",
              "\n",
              "    .dataframe thead th {\n",
              "        text-align: right;\n",
              "    }\n",
              "</style>\n",
              "<table border=\"1\" class=\"dataframe\">\n",
              "  <thead>\n",
              "    <tr style=\"text-align: right;\">\n",
              "      <th></th>\n",
              "      <th>Hours</th>\n",
              "      <th>Scores</th>\n",
              "    </tr>\n",
              "  </thead>\n",
              "  <tbody>\n",
              "    <tr>\n",
              "      <th>0</th>\n",
              "      <td>2.5</td>\n",
              "      <td>21</td>\n",
              "    </tr>\n",
              "    <tr>\n",
              "      <th>1</th>\n",
              "      <td>5.1</td>\n",
              "      <td>47</td>\n",
              "    </tr>\n",
              "    <tr>\n",
              "      <th>2</th>\n",
              "      <td>3.2</td>\n",
              "      <td>27</td>\n",
              "    </tr>\n",
              "    <tr>\n",
              "      <th>3</th>\n",
              "      <td>8.5</td>\n",
              "      <td>75</td>\n",
              "    </tr>\n",
              "    <tr>\n",
              "      <th>4</th>\n",
              "      <td>3.5</td>\n",
              "      <td>30</td>\n",
              "    </tr>\n",
              "    <tr>\n",
              "      <th>5</th>\n",
              "      <td>1.5</td>\n",
              "      <td>20</td>\n",
              "    </tr>\n",
              "    <tr>\n",
              "      <th>6</th>\n",
              "      <td>9.2</td>\n",
              "      <td>88</td>\n",
              "    </tr>\n",
              "    <tr>\n",
              "      <th>7</th>\n",
              "      <td>5.5</td>\n",
              "      <td>60</td>\n",
              "    </tr>\n",
              "    <tr>\n",
              "      <th>8</th>\n",
              "      <td>8.3</td>\n",
              "      <td>81</td>\n",
              "    </tr>\n",
              "    <tr>\n",
              "      <th>9</th>\n",
              "      <td>2.7</td>\n",
              "      <td>25</td>\n",
              "    </tr>\n",
              "  </tbody>\n",
              "</table>\n",
              "</div>"
            ],
            "text/plain": [
              "   Hours  Scores\n",
              "0    2.5      21\n",
              "1    5.1      47\n",
              "2    3.2      27\n",
              "3    8.5      75\n",
              "4    3.5      30\n",
              "5    1.5      20\n",
              "6    9.2      88\n",
              "7    5.5      60\n",
              "8    8.3      81\n",
              "9    2.7      25"
            ]
          },
          "metadata": {},
          "execution_count": 2
        }
      ],
      "metadata": {
        "colab": {
          "base_uri": "https://localhost:8080/",
          "height": 374
        },
        "id": "ad1e7ce9",
        "outputId": "bab75847-3b8c-4590-b794-3aaba8dba078"
      }
    },
    {
      "cell_type": "markdown",
      "source": [
        "**GETTING THE SHAPE OF THE DATA**\n",
        " "
      ],
      "metadata": {
        "id": "b7b2f27a"
      }
    },
    {
      "cell_type": "code",
      "execution_count": 3,
      "source": [
        "print(df.shape)"
      ],
      "outputs": [
        {
          "output_type": "stream",
          "name": "stdout",
          "text": [
            "(25, 2)\n"
          ]
        }
      ],
      "metadata": {
        "colab": {
          "base_uri": "https://localhost:8080/"
        },
        "id": "f33c1dcf",
        "outputId": "b4e5bfd5-2433-4662-c64e-214ca20a70d5"
      }
    },
    {
      "cell_type": "markdown",
      "source": [
        "25 rows and 2 coloumns."
      ],
      "metadata": {
        "id": "07b6d3b6"
      }
    },
    {
      "cell_type": "markdown",
      "source": [
        "**PLOTTING THE DATA**"
      ],
      "metadata": {
        "id": "be3690bb"
      }
    },
    {
      "cell_type": "code",
      "execution_count": 4,
      "source": [
        "df.plot(x='Hours' , y='Scores', style='o')\n",
        "plt.title(\"Hours Vs Percentage\")\n",
        "plt.xlabel(\"Hours studied\")\n",
        "plt.ylabel(\"Percentage Score\")\n",
        "plt.show()"
      ],
      "outputs": [
        {
          "output_type": "display_data",
          "data": {
            "image/png": "[encoded data removed]",
            "text/plain": [
              "<Figure size 432x288 with 1 Axes>"
            ]
          },
          "metadata": {
            "needs_background": "light"
          }
        }
      ],
      "metadata": {
        "collapsed": true,
        "id": "1571c1fb",
        "colab": {
          "base_uri": "https://localhost:8080/",
          "height": 295
        },
        "outputId": "02b11794-6cab-477f-d938-5e67afea3084"
      }
    },
    {
      "cell_type": "markdown",
      "source": [
        "**PREPARING THE DATA**"
      ],
      "metadata": {
        "id": "014dbffe"
      }
    },
    {
      "cell_type": "code",
      "execution_count": 5,
      "source": [
        "X = df.iloc[:, :-1].values  \n",
        "y = df.iloc[:, 1].values\n",
        "print(\"X:\",X)\n",
        "print(\"y:\",y)"
      ],
      "outputs": [
        {
          "output_type": "stream",
          "name": "stdout",
          "text": [
            "X: [[2.5]\n",
            " [5.1]\n",
            " [3.2]\n",
            " [8.5]\n",
            " [3.5]\n",
            " [1.5]\n",
            " [9.2]\n",
            " [5.5]\n",
            " [8.3]\n",
            " [2.7]\n",
            " [7.7]\n",
            " [5.9]\n",
            " [4.5]\n",
            " [3.3]\n",
            " [1.1]\n",
            " [8.9]\n",
            " [2.5]\n",
            " [1.9]\n",
            " [6.1]\n",
            " [7.4]\n",
            " [2.7]\n",
            " [4.8]\n",
            " [3.8]\n",
            " [6.9]\n",
            " [7.8]]\n",
            "y: [21 47 27 75 30 20 88 60 81 25 85 62 41 42 17 95 30 24 67 69 30 54 35 76\n",
            " 86]\n"
          ]
        }
      ],
      "metadata": {
        "id": "ec0b764c",
        "colab": {
          "base_uri": "https://localhost:8080/"
        },
        "outputId": "b3290644-6db2-4e09-9e1a-1108bb0d2aea"
      }
    },
    {
      "cell_type": "markdown",
      "source": [
        "**SPLITTING X AND Y IN TO TRAIN AND TEST DATA**"
      ],
      "metadata": {
        "id": "7ff589fb"
      }
    },
    {
      "cell_type": "code",
      "execution_count": 6,
      "source": [
        "from sklearn.model_selection import train_test_split\n",
        "X_train, X_test, y_train, y_test = train_test_split(X, y, test_size=0.2, random_state=0)"
      ],
      "outputs": [],
      "metadata": {
        "id": "13fd1324"
      }
    },
    {
      "cell_type": "markdown",
      "source": [
        "**TRAINING THE ALGORITHM**"
      ],
      "metadata": {
        "id": "ce3b88f9"
      }
    },
    {
      "cell_type": "code",
      "execution_count": 7,
      "source": [
        "from sklearn.linear_model import LinearRegression\n",
        "regressor = LinearRegression()\n",
        "regressor.fit(X_train, y_train)"
      ],
      "outputs": [
        {
          "output_type": "execute_result",
          "data": {
            "text/plain": [
              "LinearRegression(copy_X=True, fit_intercept=True, n_jobs=None, normalize=False)"
            ]
          },
          "metadata": {},
          "execution_count": 7
        }
      ],
      "metadata": {
        "id": "79d19c34",
        "colab": {
          "base_uri": "https://localhost:8080/"
        },
        "outputId": "8a2549ac-00de-4e19-d5eb-f7df09c2a7d6"
      }
    },
    {
      "cell_type": "markdown",
      "source": [
        "**VISUALIZATION OF THE MODEL**"
      ],
      "metadata": {
        "id": "3a7aaf6d"
      }
    },
    {
      "cell_type": "code",
      "execution_count": 8,
      "source": [
        "#VISUALIZATION OF TRAIN SET OF  DATA\n",
        "\n",
        "line = regressor.coef_*X+regressor.intercept_\n",
        "plt.scatter(X_train, y_train, color='red')\n",
        "plt.plot(X, line,color='black')\n",
        "plt.xlabel('Hours studied')\n",
        "plt.ylabel('Percentage Score')\n",
        "plt.show()"
      ],
      "outputs": [
        {
          "output_type": "display_data",
          "data": {
            "image/png": "[encoded data removed]",
            "text/plain": [
              "<Figure size 432x288 with 1 Axes>"
            ]
          },
          "metadata": {
            "needs_background": "light"
          }
        }
      ],
      "metadata": {
        "id": "79554b39",
        "colab": {
          "base_uri": "https://localhost:8080/",
          "height": 279
        },
        "outputId": "8ac66978-23d3-497a-e679-f22405d425c3"
      }
    },
    {
      "cell_type": "markdown",
      "source": [
        "**PREDICTING USING THE MODEL**"
      ],
      "metadata": {
        "id": "85659496"
      }
    },
    {
      "cell_type": "code",
      "execution_count": 9,
      "source": [
        "y_pred = regressor.predict(X_test)\n",
        "df = pd.DataFrame({'Real values':[y_test], 'Predicted values':[y_pred]})\n",
        "print(df)"
      ],
      "outputs": [
        {
          "output_type": "stream",
          "name": "stdout",
          "text": [
            "            Real values                                   Predicted values\n",
            "0  [20, 27, 69, 30, 62]  [16.884144762398023, 33.732260779489835, 75.35...\n"
          ]
        }
      ],
      "metadata": {
        "id": "b9251877",
        "colab": {
          "base_uri": "https://localhost:8080/"
        },
        "outputId": "3fb35864-6903-4322-912e-7457c4064853"
      }
    },
    {
      "cell_type": "code",
      "execution_count": 10,
      "source": [
        "#TESTING WITH OWN DATA\n",
        "\n",
        "hours = 9.25\n",
        "own_pred = regressor.predict([[hours]])\n",
        "print(\"The predicted score for a student studying for 9.25 hours is\",own_pred[0])\n"
      ],
      "outputs": [
        {
          "output_type": "stream",
          "name": "stdout",
          "text": [
            "The predicted score for a student studying for 9.25 hours is 93.69173248737539\n"
          ]
        }
      ],
      "metadata": {
        "id": "6b8ae703",
        "colab": {
          "base_uri": "https://localhost:8080/"
        },
        "outputId": "89fc1f65-8f33-4b8f-b55e-ed32b32348d4"
      }
    },
    {
      "cell_type": "markdown",
      "source": [
        "**VISUALIZATION OF THE MODEL**"
      ],
      "metadata": {
        "id": "2bc091eb"
      }
    },
    {
      "cell_type": "code",
      "execution_count": 11,
      "source": [
        "#VISUALIZING TEST DATA AND PREDICTED DATA\r\n",
        "\r\n",
        "plt.scatter(X_test, y_test, color='red')\r\n",
        "plt.scatter(X_test, y_pred, color='green')\r\n",
        "plt.plot(X_train, regressor.predict(X_train), color='black')\r\n",
        "plt.title('Hours Vs Percentage')\r\n",
        "plt.xlabel('Hours studied')\r\n",
        "plt.ylabel('Percentage Score')\r\n",
        "plt.show()\r\n"
      ],
      "outputs": [
        {
          "output_type": "display_data",
          "data": {
            "image/png": "[encoded data removed]",
            "text/plain": [
              "<Figure size 432x288 with 1 Axes>"
            ]
          },
          "metadata": {
            "needs_background": "light"
          }
        }
      ],
      "metadata": {
        "id": "5d75fc0e",
        "colab": {
          "base_uri": "https://localhost:8080/",
          "height": 295
        },
        "outputId": "7a94516c-bf94-4b5a-d7b3-d9a654ce3f5e"
      }
    },
    {
      "cell_type": "markdown",
      "source": [
        "**EVALUATING THE MODEL USING R2 SCORE**"
      ],
      "metadata": {
        "id": "ceeb0ff8"
      }
    },
    {
      "cell_type": "code",
      "execution_count": 12,
      "source": [
        "from sklearn.metrics import r2_score\r\n",
        "print('R2 score:', r2_score(y_test, y_pred))"
      ],
      "outputs": [
        {
          "output_type": "stream",
          "name": "stdout",
          "text": [
            "R2 score: 0.9454906892105354\n"
          ]
        }
      ],
      "metadata": {
        "id": "e7f44927",
        "colab": {
          "base_uri": "https://localhost:8080/"
        },
        "outputId": "b62952d3-75f7-4ce4-b08a-139110e80583"
      }
    },
    {
      "cell_type": "markdown",
      "source": [
        "The model is 94.54% confident.\n",
        "\n",
        "   **THANK YOU**"
      ],
      "metadata": {
        "id": "58919b0e"
      }
    }
  ]
}